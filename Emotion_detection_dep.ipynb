{
  "nbformat": 4,
  "nbformat_minor": 0,
  "metadata": {
    "colab": {
      "provenance": []
    },
    "kernelspec": {
      "name": "python3",
      "display_name": "Python 3"
    },
    "language_info": {
      "name": "python"
    }
  },
  "cells": [
    {
      "cell_type": "code",
      "execution_count": 2,
      "metadata": {
        "colab": {
          "base_uri": "https://localhost:8080/"
        },
        "id": "5hAypw-zwDO3",
        "outputId": "03acb8bb-c9f8-45d3-f4e7-4051b9917250"
      },
      "outputs": [
        {
          "output_type": "stream",
          "name": "stdout",
          "text": [
            "Requirement already satisfied: textblob in /usr/local/lib/python3.11/dist-packages (0.19.0)\n",
            "Collecting nrclex\n",
            "  Downloading NRCLex-4.0-py3-none-any.whl.metadata (3.2 kB)\n",
            "Requirement already satisfied: nltk>=3.9 in /usr/local/lib/python3.11/dist-packages (from textblob) (3.9.1)\n",
            "INFO: pip is looking at multiple versions of nrclex to determine which version is compatible with other requirements. This could take a while.\n",
            "  Downloading NRCLex-3.0.0.tar.gz (396 kB)\n",
            "\u001b[2K     \u001b[90m━━━━━━━━━━━━━━━━━━━━━━━━━━━━━━━━━━━━━━━\u001b[0m \u001b[32m396.4/396.4 kB\u001b[0m \u001b[31m5.7 MB/s\u001b[0m eta \u001b[36m0:00:00\u001b[0m\n",
            "\u001b[?25h  Preparing metadata (setup.py) ... \u001b[?25l\u001b[?25hdone\n",
            "Requirement already satisfied: click in /usr/local/lib/python3.11/dist-packages (from nltk>=3.9->textblob) (8.2.0)\n",
            "Requirement already satisfied: joblib in /usr/local/lib/python3.11/dist-packages (from nltk>=3.9->textblob) (1.5.0)\n",
            "Requirement already satisfied: regex>=2021.8.3 in /usr/local/lib/python3.11/dist-packages (from nltk>=3.9->textblob) (2024.11.6)\n",
            "Requirement already satisfied: tqdm in /usr/local/lib/python3.11/dist-packages (from nltk>=3.9->textblob) (4.67.1)\n",
            "Building wheels for collected packages: nrclex\n",
            "  Building wheel for nrclex (setup.py) ... \u001b[?25l\u001b[?25hdone\n",
            "  Created wheel for nrclex: filename=NRCLex-3.0.0-py3-none-any.whl size=43309 sha256=cea4041869eb998ac06c8f23506afe6e8cf1c8d67b609b57bf8fa4475fd87a38\n",
            "  Stored in directory: /root/.cache/pip/wheels/ed/ac/fa/7afddefd14f51c4a963ed291b9052746ed3929473e5a33118d\n",
            "Successfully built nrclex\n",
            "Installing collected packages: nrclex\n",
            "Successfully installed nrclex-3.0.0\n",
            "[nltk_data] Downloading package brown to /root/nltk_data...\n",
            "[nltk_data]   Unzipping corpora/brown.zip.\n",
            "[nltk_data] Downloading package punkt_tab to /root/nltk_data...\n",
            "[nltk_data]   Unzipping tokenizers/punkt_tab.zip.\n",
            "[nltk_data] Downloading package wordnet to /root/nltk_data...\n",
            "[nltk_data] Downloading package averaged_perceptron_tagger_eng to\n",
            "[nltk_data]     /root/nltk_data...\n",
            "[nltk_data]   Unzipping taggers/averaged_perceptron_tagger_eng.zip.\n",
            "[nltk_data] Downloading package conll2000 to /root/nltk_data...\n",
            "[nltk_data]   Unzipping corpora/conll2000.zip.\n",
            "[nltk_data] Downloading package movie_reviews to /root/nltk_data...\n",
            "[nltk_data]   Unzipping corpora/movie_reviews.zip.\n",
            "Finished.\n"
          ]
        }
      ],
      "source": [
        "!pip install textblob nrclex\n",
        "!python -m textblob.download_corpora"
      ]
    },
    {
      "cell_type": "code",
      "source": [
        "from textblob import TextBlob\n",
        "from nrclex import NRCLex\n",
        "\n",
        "# Sample social media posts\n",
        "posts = [\n",
        "    \"I'm so happy with the new phone I bought!\",\n",
        "    \"I can't believe how terrible the service was today.\",\n",
        "    \"Feeling excited about my vacation next week.\",\n",
        "    \"I miss my dog. Life feels so empty.\",\n",
        "    \"What a beautiful sunset! Grateful for moments like this.\",\n",
        "    \"I'm frustrated with everything going wrong lately.\"\n",
        "]\n",
        "\n",
        "# Function to analyze sentiment and emotions\n",
        "def analyze_posts(posts):\n",
        "    results = []\n",
        "    for post in posts:\n",
        "        blob = TextBlob(post)\n",
        "        sentiment_polarity = blob.sentiment.polarity  # [-1.0, 1.0]\n",
        "        sentiment_subjectivity = blob.sentiment.subjectivity  # [0.0, 1.0]\n",
        "\n",
        "        emotion = NRCLex(post)\n",
        "        top_emotions = emotion.top_emotions\n",
        "\n",
        "        results.append({\n",
        "            'text': post,\n",
        "            'sentiment': 'Positive' if sentiment_polarity > 0 else 'Negative' if sentiment_polarity < 0 else 'Neutral',\n",
        "            'polarity': sentiment_polarity,\n",
        "            'subjectivity': sentiment_subjectivity,\n",
        "            'emotions': top_emotions\n",
        "        })\n",
        "    return results\n",
        "\n",
        "# Run analysis\n",
        "analysis_results = analyze_posts(posts)\n",
        "\n",
        "# Display output\n",
        "for res in analysis_results:\n",
        "    print(\"\\nText:\", res['text'])\n",
        "    print(\"Sentiment:\", res['sentiment'], f\"(Polarity: {res['polarity']:.2f}, Subjectivity: {res['subjectivity']:.2f})\")\n",
        "    print(\"Top Emotions:\", res['emotions'])\n"
      ],
      "metadata": {
        "colab": {
          "base_uri": "https://localhost:8080/"
        },
        "id": "yQdt--zgwoma",
        "outputId": "50347e93-496b-4718-dd85-76f9f129a808"
      },
      "execution_count": 3,
      "outputs": [
        {
          "output_type": "stream",
          "name": "stdout",
          "text": [
            "\n",
            "Text: I'm so happy with the new phone I bought!\n",
            "Sentiment: Positive (Polarity: 0.49, Subjectivity: 0.73)\n",
            "Top Emotions: [('trust', 0.25), ('positive', 0.25), ('joy', 0.25), ('anticipation', 0.25)]\n",
            "\n",
            "Text: I can't believe how terrible the service was today.\n",
            "Sentiment: Negative (Polarity: -1.00, Subjectivity: 1.00)\n",
            "Top Emotions: [('fear', 0.2), ('anger', 0.2), ('negative', 0.2), ('sadness', 0.2), ('disgust', 0.2)]\n",
            "\n",
            "Text: Feeling excited about my vacation next week.\n",
            "Sentiment: Positive (Polarity: 0.19, Subjectivity: 0.38)\n",
            "Top Emotions: [('positive', 0.25), ('joy', 0.25), ('anticipation', 0.25)]\n",
            "\n",
            "Text: I miss my dog. Life feels so empty.\n",
            "Sentiment: Negative (Polarity: -0.10, Subjectivity: 0.50)\n",
            "Top Emotions: [('fear', 0.0), ('anger', 0.0), ('anticip', 0.0), ('trust', 0.0), ('surprise', 0.0), ('positive', 0.0), ('negative', 0.0), ('sadness', 0.0), ('disgust', 0.0), ('joy', 0.0)]\n",
            "\n",
            "Text: What a beautiful sunset! Grateful for moments like this.\n",
            "Sentiment: Positive (Polarity: 1.00, Subjectivity: 1.00)\n",
            "Top Emotions: [('positive', 0.5)]\n",
            "\n",
            "Text: I'm frustrated with everything going wrong lately.\n",
            "Sentiment: Negative (Polarity: -0.50, Subjectivity: 0.57)\n",
            "Top Emotions: [('negative', 0.6666666666666666)]\n"
          ]
        }
      ]
    }
  ]
}